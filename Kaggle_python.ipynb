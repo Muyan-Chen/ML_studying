{
 "cells": [
  {
   "cell_type": "markdown",
   "id": "7cc3a9b9-4ab2-4c6a-b230-72265d7f4ae7",
   "metadata": {},
   "source": [
    "#Exercise 1"
   ]
  },
  {
   "cell_type": "code",
   "execution_count": 1,
   "id": "9d6c39a1-b888-40b6-8d9b-af0f505e98cf",
   "metadata": {},
   "outputs": [
    {
     "name": "stdout",
     "output_type": "stream",
     "text": [
      "Hallo world\n"
     ]
    }
   ],
   "source": [
    "print(\"Hallo world\")"
   ]
  },
  {
   "cell_type": "code",
   "execution_count": null,
   "id": "1ed19032-143e-47c5-ad59-bed6c1acc9f4",
   "metadata": {},
   "outputs": [],
   "source": [
    " "
   ]
  }
 ],
 "metadata": {
  "kernelspec": {
   "display_name": "Python 3 (ipykernel)",
   "language": "python",
   "name": "python3"
  },
  "language_info": {
   "codemirror_mode": {
    "name": "ipython",
    "version": 3
   },
   "file_extension": ".py",
   "mimetype": "text/x-python",
   "name": "python",
   "nbconvert_exporter": "python",
   "pygments_lexer": "ipython3",
   "version": "3.12.4"
  }
 },
 "nbformat": 4,
 "nbformat_minor": 5
}
